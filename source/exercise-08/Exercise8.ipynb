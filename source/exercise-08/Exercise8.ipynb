{
 "cells": [
  {
   "cell_type": "markdown",
   "metadata": {},
   "source": [
    "# CS-E4850 Computer Vision Exercise Round 8\n",
    "\n",
    "The problems should be solved before the exercise session and solutions returned via\n",
    "MyCourses. For this exercise round you should return a pdf file containing written answers to the questions below. \n",
    "\n",
    "### Exercise 1. Face tracking example using KLT tracker\n",
    "\n",
    "Run the example as instructed below and answer the questions.\n",
    "\n",
    "a) Run ```Exercise8.ipynb```<br>\n",
    "b) Run ```Exercise8.ipynb``` with a different input by changing the input to obama.avi: ```frames=faceTracker('obama.avi')```<br>\n",
    "c) What could be the main reasons why most of the features are not tracked very long in case b) above?<br>\n",
    "d) How could one try to avoid the problem of gradually losing the features? Suggest one or more improvements.<br>\n",
    "e) Voluntary task: Capture a video of your own face or of a picture of a face, and check that whether the tracking works for you. That is, replace the input video path in ```faceTrackingDemo.py``` with the path to your own video. \n",
    "\n",
    "### Exercise  2. Kanade-Lucas-Tomasi  (KLT)  feature  tracking  (Pen  &  paper  problem)\n",
    "Read Sections 2.1 and 2.2 from the [paper by Baker and Matthews](https://www.ri.cmu.edu/pub_files/pub3/baker_simon_2002_3/baker_simon_2002_3.pdf). Show that the Equation (10) in the paper gives the same solution as the equations on slide 25 of Lecture 7, when the geometric warping W \n",
    "(between the current frame and the template window in the previous frame) is a translation."
   ]
  },
  {
   "cell_type": "code",
   "execution_count": null,
   "metadata": {},
   "outputs": [],
   "source": [
    "import os\n",
    "from IPython.display import HTML\n",
    "\n",
    "HTML('''<script>\n",
    "code_show=true;\n",
    "function code_toggle() {\n",
    "if (code_show){\n",
    "$('div.input').hide();\n",
    "} else {\n",
    "$('div.input').show();\n",
    "}\n",
    "code_show = !code_show\n",
    "}\n",
    "$( document ).ready(code_toggle);\n",
    "</script>\n",
    "<form action=\"javascript:code_toggle()\"><input type=\"submit\" value=\"Click here to toggle on/off the raw code.\"></form>''')"
   ]
  },
  {
   "cell_type": "code",
   "execution_count": null,
   "metadata": {},
   "outputs": [],
   "source": [
    "# Description:\n",
    "#   Exercise8 python demo.\n",
    "#\n",
    "# Copyright (C) 2018 Santiago Cortes, Juha Ylioinas, Tapio Honka\n",
    "#\n",
    "# This software is distributed under the GNU General Public \n",
    "# Licence (version 2 or later); please refer to the file \n",
    "# Licence.txt, included with the software, for details.\n",
    "\n",
    "import matplotlib.pyplot as plt\n",
    "import matplotlib.animation as animation\n",
    "from IPython.display import HTML\n",
    "from faceTrackingDemo import faceTracker"
   ]
  },
  {
   "cell_type": "code",
   "execution_count": null,
   "metadata": {},
   "outputs": [],
   "source": [
    "%%capture\n",
    "fig = plt.figure(figsize=(10,10))\n",
    "\n",
    "# frames of the processed input video\n",
    "# change the input to obama.avi in part b)\n",
    "frames = faceTracker('santi.avi')\n",
    "\n",
    "# create an animation that can be embedded in the notebook\n",
    "ani = animation.ArtistAnimation(fig, frames, interval=50, blit=True, repeat_delay=2000)"
   ]
  },
  {
   "cell_type": "code",
   "execution_count": null,
   "metadata": {},
   "outputs": [],
   "source": [
    "display(HTML(ani.to_html5_video()))"
   ]
  }
 ],
 "metadata": {
  "kernelspec": {
   "display_name": "Python 3",
   "language": "python",
   "name": "python3"
  },
  "language_info": {
   "codemirror_mode": {
    "name": "ipython",
    "version": 3
   },
   "file_extension": ".py",
   "mimetype": "text/x-python",
   "name": "python",
   "nbconvert_exporter": "python",
   "pygments_lexer": "ipython3",
   "version": "3.7.3"
  }
 },
 "nbformat": 4,
 "nbformat_minor": 4
}
